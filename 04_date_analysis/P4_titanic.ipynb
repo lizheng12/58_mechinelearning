{
 "cells": [
  {
   "cell_type": "markdown",
   "metadata": {},
   "source": [
    "# P4 数据分析titanic乘客幸存因素 #"
   ]
  },
  {
   "cell_type": "markdown",
   "metadata": {},
   "source": [
    "## 提出问题 ##"
   ]
  },
  {
   "cell_type": "markdown",
   "metadata": {},
   "source": [
    "提出问题：本报告根据titanic-data.csv提供的数据，分析有哪些因素会影响乘客是否生还。\n",
    "\n",
    "主要分析方向：舱位等级、性别、年龄、是否与直系或非直系亲属同行、船票价格、船票编号、所在船舱编号和上船港口。"
   ]
  },
  {
   "cell_type": "markdown",
   "metadata": {},
   "source": [
    "## 数据清洗 ##"
   ]
  },
  {
   "cell_type": "markdown",
   "metadata": {},
   "source": [
    "#### 1.读入数据 ####"
   ]
  },
  {
   "cell_type": "code",
   "execution_count": 1,
   "metadata": {},
   "outputs": [
    {
     "name": "stdout",
     "output_type": "stream",
     "text": [
      "Populating the interactive namespace from numpy and matplotlib\n"
     ]
    }
   ],
   "source": [
    "import matplotlib.pyplot as plt\n",
    "import pandas as pd\n",
    "%pylab inline\n",
    "\n",
    "filename = 'titanic-data.csv'\n",
    "titanic_df = pd.read_csv(filename)"
   ]
  },
  {
   "cell_type": "markdown",
   "metadata": {},
   "source": [
    "#### 2.按列检查是否有缺失值以及缺失比例 ####"
   ]
  },
  {
   "cell_type": "code",
   "execution_count": 2,
   "metadata": {},
   "outputs": [
    {
     "name": "stdout",
     "output_type": "stream",
     "text": [
      "Age deficiency! Lack of proportion: 0.198653198653\n",
      "Cabin deficiency! Lack of proportion: 0.771043771044\n",
      "Embarked deficiency! Lack of proportion: 0.00224466891134\n"
     ]
    }
   ],
   "source": [
    "def calc_deficiency(field):\n",
    "    count = titanic_df[field].count()\n",
    "    if count != 891:\n",
    "        print field, \"deficiency! Lack of proportion:\", float((891 - count))/float(891)\n",
    "\n",
    "calc_deficiency('PassengerId')\n",
    "calc_deficiency('Survived')\n",
    "calc_deficiency('Pclass')\n",
    "calc_deficiency('Name')\n",
    "calc_deficiency('Sex')\n",
    "calc_deficiency('Age')\n",
    "calc_deficiency('SibSp')\n",
    "calc_deficiency('Parch')\n",
    "calc_deficiency('Ticket')\n",
    "calc_deficiency('Fare')\n",
    "calc_deficiency('Cabin')\n",
    "calc_deficiency('Embarked')"
   ]
  },
  {
   "cell_type": "markdown",
   "metadata": {},
   "source": [
    "#### 3.数据填充 ####"
   ]
  },
  {
   "cell_type": "markdown",
   "metadata": {},
   "source": [
    "(1)年龄数据存在缺失，缺失占比较高，这里选择用年龄的随机数填充:"
   ]
  },
  {
   "cell_type": "code",
   "execution_count": 3,
   "metadata": {},
   "outputs": [
    {
     "data": {
      "text/plain": [
       "80.0"
      ]
     },
     "execution_count": 3,
     "metadata": {},
     "output_type": "execute_result"
    }
   ],
   "source": [
    "#获取年龄的最大值\n",
    "titanic_df['Age'].max()"
   ]
  },
  {
   "cell_type": "code",
   "execution_count": 4,
   "metadata": {},
   "outputs": [
    {
     "name": "stdout",
     "output_type": "stream",
     "text": [
      "PassengerId                   6\n",
      "Survived                      0\n",
      "Pclass                        3\n",
      "Name           Moran, Mr. James\n",
      "Sex                        male\n",
      "Age                          52\n",
      "SibSp                         0\n",
      "Parch                         0\n",
      "Ticket                   330877\n",
      "Fare                     8.4583\n",
      "Cabin                       NaN\n",
      "Embarked                      Q\n",
      "Name: 5, dtype: object\n"
     ]
    }
   ],
   "source": [
    "#填充\n",
    "titanic_df['Age'] = titanic_df['Age'].fillna(np.random.randint(0,80))\n",
    "\n",
    "#查看是否填充\n",
    "print titanic_df.iloc[5]"
   ]
  },
  {
   "cell_type": "markdown",
   "metadata": {},
   "source": [
    "(2)船舱编号数据缺失值过多，放弃对该因素进行分析。"
   ]
  },
  {
   "cell_type": "markdown",
   "metadata": {},
   "source": [
    "(3)上船港口数据存在缺失，缺失占比很低，这里直接删除相关记录:"
   ]
  },
  {
   "cell_type": "code",
   "execution_count": 5,
   "metadata": {},
   "outputs": [
    {
     "name": "stdout",
     "output_type": "stream",
     "text": [
      "PassengerId                       61\n",
      "Survived                           0\n",
      "Pclass                             3\n",
      "Name           Sirayanian, Mr. Orsen\n",
      "Sex                             male\n",
      "Age                               22\n",
      "SibSp                              0\n",
      "Parch                              0\n",
      "Ticket                          2669\n",
      "Fare                          7.2292\n",
      "Cabin                            NaN\n",
      "Embarked                           C\n",
      "Name: 60, dtype: object\n",
      "PassengerId                             63\n",
      "Survived                                 0\n",
      "Pclass                                   1\n",
      "Name           Harris, Mr. Henry Birkhardt\n",
      "Sex                                   male\n",
      "Age                                     45\n",
      "SibSp                                    1\n",
      "Parch                                    0\n",
      "Ticket                               36973\n",
      "Fare                                83.475\n",
      "Cabin                                  C83\n",
      "Embarked                                 S\n",
      "Name: 62, dtype: object\n"
     ]
    }
   ],
   "source": [
    "titanic_df = titanic_df[titanic_df.Embarked.isin(['C', 'Q', 'S'])]\n",
    "\n",
    "#检查缺失记录是否已删除\n",
    "print titanic_df.iloc[60]\n",
    "print titanic_df.iloc[61]"
   ]
  },
  {
   "cell_type": "markdown",
   "metadata": {},
   "source": [
    "## 数据探索 ##"
   ]
  },
  {
   "cell_type": "markdown",
   "metadata": {},
   "source": [
    "### 1. 总体生还率 ###"
   ]
  },
  {
   "cell_type": "code",
   "execution_count": 6,
   "metadata": {},
   "outputs": [
    {
     "data": {
      "text/plain": [
       "([<matplotlib.patches.Wedge at 0x9ff50f0>,\n",
       "  <matplotlib.patches.Wedge at 0x9ff5828>],\n",
       " [Text(-0.397046,1.02584,u'victims'), Text(0.397046,-1.02584,u'survivals')],\n",
       " [Text(-0.216571,0.559551,u'61.8%'), Text(0.216571,-0.559551,u'38.2%')])"
      ]
     },
     "execution_count": 6,
     "metadata": {},
     "output_type": "execute_result"
    },
    {
     "data": {
      "image/png": "[encoded data removed]",
      "text/plain": [
       "<matplotlib.figure.Figure at 0x9d4e9b0>"
      ]
     },
     "metadata": {},
     "output_type": "display_data"
    }
   ],
   "source": [
    "labels = 'victims', 'survivals'\n",
    "plt.axis('equal') #设置饼图为正圆\n",
    "plt.pie(titanic_df.Survived.value_counts(), labels=labels, autopct='%1.1f%%')"
   ]
  },
  {
   "cell_type": "markdown",
   "metadata": {},
   "source": [
    "分析：总体来看，泰坦尼克号事件的生还率为61.6%。"
   ]
  },
  {
   "cell_type": "markdown",
   "metadata": {},
   "source": [
    "### 2. 仓位等级（Pclass）与生还率 ###"
   ]
  },
  {
   "cell_type": "markdown",
   "metadata": {},
   "source": [
    "仓位等级数目分布及生存情况堆积图："
   ]
  },
  {
   "cell_type": "code",
   "execution_count": 7,
   "metadata": {},
   "outputs": [
    {
     "data": {
      "text/plain": [
       "<matplotlib.axes._subplots.AxesSubplot at 0x9d4e5c0>"
      ]
     },
     "execution_count": 7,
     "metadata": {},
     "output_type": "execute_result"
    },
    {
     "data": {
      "image/png": "[encoded data removed]",
      "text/plain": [
       "<matplotlib.figure.Figure at 0x9cf3160>"
      ]
     },
     "metadata": {},
     "output_type": "display_data"
    }
   ],
   "source": [
    "Survived_Pclass = titanic_df.groupby('Pclass').Survived.value_counts() #返回包含唯一值计数的对象\n",
    "#print Survived_Pclass\n",
    "#Survived_Pclass1 = titanic_df.groupby('Pclass')['Survived'].value_counts() #结果同上\n",
    "#print Survived_Pclass1\n",
    "Survived_Pclass = Survived_Pclass.unstack()  #旋转（必须是分层的）索引标签的级别\n",
    "#print ''\n",
    "#print Survived_Pclass\n",
    "\n",
    "Survived_Pclass.plot.bar(stacked=True)"
   ]
  },
  {
   "cell_type": "markdown",
   "metadata": {},
   "source": [
    "各仓位幸存率条形图："
   ]
  },
  {
   "cell_type": "code",
   "execution_count": 8,
   "metadata": {},
   "outputs": [
    {
     "data": {
      "image/png": "[encoded data removed]",
      "text/plain": [
       "<matplotlib.figure.Figure at 0x9fb1eb8>"
      ]
     },
     "metadata": {},
     "output_type": "display_data"
    }
   ],
   "source": [
    "Survived_Pclass = titanic_df.groupby('Pclass').Survived.mean()\n",
    "rect = Survived_Pclass.plot.bar(stacked=True)\n",
    "\n",
    "for p in rect.patches:\n",
    "    height = p.get_height()\n",
    "    plt.text(p.get_x(), height, '%2.2f%%'%(height*100))"
   ]
  },
  {
   "cell_type": "markdown",
   "metadata": {},
   "source": [
    "分析：仓位等级越高，生还概率越高。"
   ]
  },
  {
   "cell_type": "markdown",
   "metadata": {},
   "source": [
    "### 3. 性别（Sex）与生还率 ###"
   ]
  },
  {
   "cell_type": "markdown",
   "metadata": {},
   "source": [
    "统计不同性别人数:"
   ]
  },
  {
   "cell_type": "code",
   "execution_count": 9,
   "metadata": {},
   "outputs": [
    {
     "data": {
      "image/png": "[encoded data removed]",
      "text/plain": [
       "<matplotlib.figure.Figure at 0x9eb69e8>"
      ]
     },
     "metadata": {},
     "output_type": "display_data"
    }
   ],
   "source": [
    "sex_distribution = titanic_df.groupby('Sex')['PassengerId'].count()\n",
    "\n",
    "plt.xlabel('Sex')\n",
    "plt.ylabel('Count')\n",
    "rect = sex_distribution.plot(kind='bar')\n",
    "\n",
    "#添加条形图的count\n",
    "for p in rect.patches:\n",
    "    height = p.get_height()\n",
    "    plt.text(p.get_x()+0.17, height+5, height)"
   ]
  },
  {
   "cell_type": "markdown",
   "metadata": {},
   "source": [
    "统计不同性别生还率："
   ]
  },
  {
   "cell_type": "code",
   "execution_count": 10,
   "metadata": {},
   "outputs": [
    {
     "data": {
      "image/png": "[encoded data removed]",
      "text/plain": [
       "<matplotlib.figure.Figure at 0xa2a7a90>"
      ]
     },
     "metadata": {},
     "output_type": "display_data"
    }
   ],
   "source": [
    "Survived_Sex = titanic_df.groupby('Sex').Survived.mean()\n",
    "\n",
    "plt.xlabel('Sex')\n",
    "plt.ylabel('survival probability')\n",
    "rect = Survived_Sex.plot(kind='bar')\n",
    "\n",
    "#添加条形图的百分比\n",
    "for p in rect.patches:\n",
    "    height = p.get_height()\n",
    "    plt.text(p.get_x()+0.12, height+0.005, '%2.2f%%'%(height*100))"
   ]
  },
  {
   "cell_type": "markdown",
   "metadata": {},
   "source": [
    "分析：女性生还概率明显高于男性。"
   ]
  },
  {
   "cell_type": "markdown",
   "metadata": {},
   "source": [
    "### 4. 年龄（Age）与生还率 ###"
   ]
  },
  {
   "cell_type": "markdown",
   "metadata": {},
   "source": [
    "对不同年龄段进行分组："
   ]
  },
  {
   "cell_type": "code",
   "execution_count": 11,
   "metadata": {},
   "outputs": [],
   "source": [
    "bins = np.arange(0,90,10) #设置组距\n",
    "titanic_df['Age_group'] = pd.cut(titanic_df.Age, bins) #添加Age_group年龄分组列"
   ]
  },
  {
   "cell_type": "markdown",
   "metadata": {},
   "source": [
    "统计不同年龄段的人数："
   ]
  },
  {
   "cell_type": "code",
   "execution_count": 12,
   "metadata": {},
   "outputs": [
    {
     "data": {
      "image/png": "[encoded data removed]",
      "text/plain": [
       "<matplotlib.figure.Figure at 0x9c97e80>"
      ]
     },
     "metadata": {},
     "output_type": "display_data"
    }
   ],
   "source": [
    "Age_Group_Count = titanic_df.groupby('Age_group').PassengerId.count()\n",
    "plt.xlabel('Age_group')\n",
    "plt.ylabel('count')\n",
    "rect = Age_Group_Count.plot(kind='bar')\n",
    "\n",
    "#添加条形图的count\n",
    "for p in rect.patches:\n",
    "    height = p.get_height()\n",
    "    plt.text(p.get_x(), height+5, height)"
   ]
  },
  {
   "cell_type": "markdown",
   "metadata": {},
   "source": [
    "统计不同年龄段的生还率："
   ]
  },
  {
   "cell_type": "code",
   "execution_count": 13,
   "metadata": {},
   "outputs": [
    {
     "data": {
      "image/png": "[encoded data removed]",
      "text/plain": [
       "<matplotlib.figure.Figure at 0xa3aaac8>"
      ]
     },
     "metadata": {},
     "output_type": "display_data"
    }
   ],
   "source": [
    "Survived_Age = titanic_df.groupby('Age_group').Survived.mean()\n",
    "\n",
    "plt.xlabel('Age_group')\n",
    "plt.ylabel('Survived probability')\n",
    "rect = Survived_Age.plot(kind='bar')\n",
    "\n",
    "#添加条形图的百分比\n",
    "for p in rect.patches:\n",
    "    height = p.get_height()\n",
    "    plt.text(p.get_x(), height+0.005, '%2.2f%%'%(height*100))"
   ]
  },
  {
   "cell_type": "raw",
   "metadata": {},
   "source": [
    "分析：0-10岁分组的乘客生还率明显高于其他年龄组。60-80岁分组的乘客生还率略低于其他年龄组。\n",
    "\n",
    "局限性说明：由于年龄数据存在缺失，用随机数进行填充，所以这里的分析存在局限性，可能与实际情况有所偏差。另外，针对60-80岁乘客的分析结果，可能会因为这些分组的人数较少，而存在偶然性。"
   ]
  },
  {
   "cell_type": "markdown",
   "metadata": {},
   "source": [
    "### 5. 与直系亲属（Parch）/非直系亲属（SibSp）同行与生还率 ####"
   ]
  },
  {
   "cell_type": "markdown",
   "metadata": {},
   "source": [
    "添加是否与直系或非直系亲属同行的属性列："
   ]
  },
  {
   "cell_type": "code",
   "execution_count": 14,
   "metadata": {},
   "outputs": [],
   "source": [
    "def add_with(df):\n",
    "    return 1 if (df.SibSp != 0 or df.Parch != 0) else 0\n",
    "\n",
    "titanic_df['With_relate'] = titanic_df.apply(add_with, axis=1) #添加With_relate列，用以区分是否与亲属同行"
   ]
  },
  {
   "cell_type": "markdown",
   "metadata": {},
   "source": [
    "统计是否与直系或非直系亲属同行两种情况下的人数："
   ]
  },
  {
   "cell_type": "code",
   "execution_count": 15,
   "metadata": {
    "scrolled": true
   },
   "outputs": [
    {
     "data": {
      "image/png": "[encoded data removed]",
      "text/plain": [
       "<matplotlib.figure.Figure at 0xa64e358>"
      ]
     },
     "metadata": {},
     "output_type": "display_data"
    }
   ],
   "source": [
    "SibSp_Count = titanic_df.groupby('With_relate').PassengerId.count()\n",
    "\n",
    "plt.xlabel('With_relate')\n",
    "plt.ylabel('count')\n",
    "rect = SibSp_Count.plot.bar()\n",
    "\n",
    "#添加条形图的count\n",
    "for p in rect.patches:\n",
    "    height = p.get_height()\n",
    "    plt.text(p.get_x()+0.17, height+5, height)"
   ]
  },
  {
   "cell_type": "markdown",
   "metadata": {},
   "source": [
    "统计是否与直系或非直系亲属同行两种情况下的生还率："
   ]
  },
  {
   "cell_type": "code",
   "execution_count": 16,
   "metadata": {},
   "outputs": [
    {
     "data": {
      "image/png": "[encoded data removed]",
      "text/plain": [
       "<matplotlib.figure.Figure at 0xa45c198>"
      ]
     },
     "metadata": {},
     "output_type": "display_data"
    }
   ],
   "source": [
    "Survived_SibSp = titanic_df.groupby('With_relate').Survived.mean()\n",
    "\n",
    "plt.xlabel('With_relate')\n",
    "plt.ylabel('survival probability')\n",
    "rect = Survived_SibSp.plot.bar()\n",
    "\n",
    "#添加条形图的百分比\n",
    "for p in rect.patches:\n",
    "    height = p.get_height()\n",
    "    plt.text(p.get_x()+0.12, height+0.005, '%2.2f%%'%(height*100))"
   ]
  },
  {
   "cell_type": "markdown",
   "metadata": {},
   "source": [
    "分析：与亲属同行的乘客生还率略高于不与亲属同行的乘客。"
   ]
  },
  {
   "cell_type": "markdown",
   "metadata": {},
   "source": [
    "### 6. 船票价格（Fare）与生还率 ###"
   ]
  },
  {
   "cell_type": "code",
   "execution_count": 17,
   "metadata": {},
   "outputs": [
    {
     "data": {
      "text/plain": [
       "<matplotlib.axes._subplots.AxesSubplot at 0xb7c8e10>"
      ]
     },
     "execution_count": 17,
     "metadata": {},
     "output_type": "execute_result"
    },
    {
     "data": {
      "image/png": "[encoded data removed]",
      "text/plain": [
       "<matplotlib.figure.Figure at 0xa45cc18>"
      ]
     },
     "metadata": {},
     "output_type": "display_data"
    }
   ],
   "source": [
    "titanic_df.boxplot(column='Fare', by='Survived', showfliers=False)"
   ]
  },
  {
   "cell_type": "markdown",
   "metadata": {},
   "source": [
    "分析：幸存者的船票价格水平相对更高。"
   ]
  },
  {
   "cell_type": "markdown",
   "metadata": {},
   "source": [
    "### 7.乘客上船的港口（Embarked）与生还率 ###"
   ]
  },
  {
   "cell_type": "markdown",
   "metadata": {},
   "source": [
    "乘客上船港口数据存在缺失，缺失占比不高，这里丢弃缺失的数据行。"
   ]
  },
  {
   "cell_type": "markdown",
   "metadata": {},
   "source": [
    "各港口上船人数及幸存情况堆积图："
   ]
  },
  {
   "cell_type": "code",
   "execution_count": 18,
   "metadata": {
    "scrolled": true
   },
   "outputs": [
    {
     "data": {
      "text/plain": [
       "<matplotlib.axes._subplots.AxesSubplot at 0xa45c0b8>"
      ]
     },
     "execution_count": 18,
     "metadata": {},
     "output_type": "execute_result"
    },
    {
     "data": {
      "image/png": "[encoded data removed]",
      "text/plain": [
       "<matplotlib.figure.Figure at 0xb79a358>"
      ]
     },
     "metadata": {},
     "output_type": "display_data"
    }
   ],
   "source": [
    "Survived_Embarked = titanic_df.groupby('Embarked').Survived.value_counts()\n",
    "Survived_Embarked = Survived_Embarked.unstack()  #旋转（必须是分层的）索引标签的级别\\n\n",
    "Survived_Embarked.plot.bar(stacked=True)"
   ]
  },
  {
   "cell_type": "markdown",
   "metadata": {},
   "source": [
    "各港口上船幸存比例条形图："
   ]
  },
  {
   "cell_type": "code",
   "execution_count": 19,
   "metadata": {},
   "outputs": [
    {
     "data": {
      "image/png": "[encoded data removed]",
      "text/plain": [
       "<matplotlib.figure.Figure at 0xbba70b8>"
      ]
     },
     "metadata": {},
     "output_type": "display_data"
    }
   ],
   "source": [
    "Survived_Embarked = titanic_df.groupby('Embarked').Survived.mean()\n",
    "rect = Survived_Embarked.plot.bar()\n",
    "\n",
    "#添加条形图的百分比\n",
    "for p in rect.patches:\n",
    "    height = p.get_height()\n",
    "    plt.text(p.get_x(), height, '%2.2f%%'%(height*100))"
   ]
  },
  {
   "cell_type": "markdown",
   "metadata": {},
   "source": [
    "分析：C港口上船的乘客生还率最高，其次是Q，最次是S。由于乘客上船的港口的数据有少许缺失，分析过程中忽略了存在缺失的记录，所以关于乘客上船的港口与幸存率的关系的分析存在偏差。"
   ]
  },
  {
   "cell_type": "markdown",
   "metadata": {},
   "source": [
    "## 结论和局限性分析 ##"
   ]
  },
  {
   "cell_type": "markdown",
   "metadata": {},
   "source": [
    "### 结论 ###"
   ]
  },
  {
   "cell_type": "markdown",
   "metadata": {},
   "source": [
    "1.仓位等级越高，生还概率越高。\n",
    "\n",
    "2.女性生还概率明显高于男性。\n",
    "\n",
    "3.0-10岁分组的乘客生还率明显高于其他年龄组。60-80岁分组的乘客生还率略低于其他年龄组。\n",
    "\n",
    "4.与亲属同行的乘客生还率略高于不与亲属同行的乘客。\n",
    "\n",
    "5.幸存者的船票价格水平相对更高。\n",
    "\n",
    "6.C港口上船的乘客生还率最高，其次是Q，最次是S。"
   ]
  },
  {
   "cell_type": "markdown",
   "metadata": {},
   "source": [
    "### 局限性分析 ###"
   ]
  },
  {
   "cell_type": "markdown",
   "metadata": {},
   "source": [
    "1.由于年龄数据存在缺失，用随机数进行填充，所以关于年龄的分析存在局限性，可能与实际情况有所偏差。另外，针对60-80岁乘客的分析结果，可能会因为这些分组的人数较少，而存在偶然性。\n",
    "\n",
    "2.由于原始数据中船舱编号的数据缺失严重，所以未进行船舱编号和生还率的关系的分析。\n",
    "\n",
    "3.由于乘客上船的港口的数据有少许缺失，分析过程中忽略了存在缺失的记录，所以关于乘客上船的港口与幸存率的关系的分析存在偏差。"
   ]
  },
  {
   "cell_type": "markdown",
   "metadata": {},
   "source": [
    "## 参考信息 ##"
   ]
  },
  {
   "cell_type": "markdown",
   "metadata": {},
   "source": [
    "[1] 官方文档及例子\n",
    "https://matplotlib.org/api/pyplot_summary.html\n",
    "\n",
    "[2] matplotlib绘制条形图\n",
    "http://blog.csdn.net/zhangxiaojiakele/article/details/78014627\n",
    "\n",
    "[3] 添加百分比到条形图\n",
    "https://discussions.youdaxue.com/t/topic/46331\n",
    "\n",
    "[4] 箱线图\n",
    "http://blog.csdn.net/zenghaihong/article/details/53291372\n",
    "\n",
    "[5] DataFrame 列运算\n",
    "https://www.zhihu.com/question/54631460/answer/140656334\n",
    "\n",
    "[6] 设置条形图分组及组距\n",
    "https://discussions.youdaxue.com/t/topic/49330\n",
    "\n",
    "[7] pandas.DataFrame排除特定行\n",
    "https://www.cnblogs.com/wuzhiblog/p/python_pandas.html"
   ]
  }
 ],
 "metadata": {
  "kernelspec": {
   "display_name": "Python 2",
   "language": "python",
   "name": "python2"
  },
  "language_info": {
   "codemirror_mode": {
    "name": "ipython",
    "version": 2
   },
   "file_extension": ".py",
   "mimetype": "text/x-python",
   "name": "python",
   "nbconvert_exporter": "python",
   "pygments_lexer": "ipython2",
   "version": "2.7.14"
  }
 },
 "nbformat": 4,
 "nbformat_minor": 2
}
